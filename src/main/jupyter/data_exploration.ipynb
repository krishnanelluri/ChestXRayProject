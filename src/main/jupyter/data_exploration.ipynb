{
 "cells": [
  {
   "cell_type": "code",
   "execution_count": 1,
   "metadata": {},
   "outputs": [],
   "source": [
    "import cv2\n",
    "import pandas as pd\n",
    "import matplotlib.pyplot as plt\n",
    "import numpy as np\n",
    "import h5py\n",
    "%matplotlib inline"
   ]
  },
  {
   "cell_type": "code",
   "execution_count": 2,
   "metadata": {},
   "outputs": [],
   "source": [
    "root_path = \"/Users/courtneywhalen/Documents/Masters/CSE6250/project/\""
   ]
  },
  {
   "cell_type": "code",
   "execution_count": 3,
   "metadata": {},
   "outputs": [],
   "source": [
    "train_df = pd.read_csv(root_path + \"CheXpert-v1.0-small/train.csv\")\n",
    "train_df[['patientID','study']]=train_df['Path'].str.split('/', expand=True)[[2,3]]\n",
    "\n",
    "valid_df = pd.read_csv(root_path + \"CheXpert-v1.0-small/valid.csv\")\n",
    "valid_df[['patientID','study']]=valid_df['Path'].str.split('/', expand=True)[[2,3]]"
   ]
  },
  {
   "cell_type": "code",
   "execution_count": 4,
   "metadata": {},
   "outputs": [],
   "source": [
    "# analyze by patientID\n",
    "train_studies = train_df[['patientID','study']].groupby('patientID').count()['study'].values\n",
    "valid_studies = valid_df[['patientID','study']].groupby('patientID').count()['study'].values"
   ]
  },
  {
   "cell_type": "code",
   "execution_count": 5,
   "metadata": {},
   "outputs": [
    {
     "name": "stdout",
     "output_type": "stream",
     "text": [
      "\u001b[1mTrain set:\u001b[0m\n",
      "Min of studies: 1 ; Max of studies: 92\n"
     ]
    },
    {
     "data": {
      "image/png": "[encoded data removed]",
      "text/plain": [
       "<Figure size 432x288 with 1 Axes>"
      ]
     },
     "metadata": {
      "needs_background": "light"
     },
     "output_type": "display_data"
    },
    {
     "name": "stdout",
     "output_type": "stream",
     "text": [
      "\u001b[1mValid set:\u001b[0m\n",
      "Min of studies: 1 ; Max of studies: 3\n"
     ]
    },
    {
     "data": {
      "image/png": "[encoded data removed]",
      "text/plain": [
       "<Figure size 432x288 with 1 Axes>"
      ]
     },
     "metadata": {
      "needs_background": "light"
     },
     "output_type": "display_data"
    }
   ],
   "source": [
    "print('\\033[1mTrain set:\\033[0m')\n",
    "print(\"Min of studies:\", min(train_studies), \"; Max of studies:\", max(train_studies))\n",
    "\n",
    "plt.hist(train_studies, bins=50)\n",
    "plt.title(\"Train Studies\")\n",
    "plt.show()\n",
    "\n",
    "print('\\033[1mValid set:\\033[0m')\n",
    "print(\"Min of studies:\", min(valid_studies), \"; Max of studies:\", max(valid_studies))\n",
    "\n",
    "plt.hist(valid_studies, bins=50)\n",
    "plt.title(\"Valid Studies\")\n",
    "plt.show()"
   ]
  },
  {
   "cell_type": "code",
   "execution_count": 6,
   "metadata": {},
   "outputs": [
    {
     "name": "stdout",
     "output_type": "stream",
     "text": [
      "Train size: 223414\n",
      "Valid size: 234\n",
      "Patients in Training: 64540\n",
      "Patients in Validation: 200\n",
      "Total Patients: 64740\n"
     ]
    }
   ],
   "source": [
    "print(\"Train size:\", len(train_df))\n",
    "print(\"Valid size:\", len(valid_df))\n",
    "print(\"Patients in Training:\",train_df['patientID'].unique().size)\n",
    "print(\"Patients in Validation:\",valid_df['patientID'].unique().size)\n",
    "print(\"Total Patients:\",train_df['patientID'].unique().size+valid_df['patientID'].unique().size)"
   ]
  },
  {
   "cell_type": "markdown",
   "metadata": {},
   "source": [
    "### Initial Stats\n",
    "- distribution of positive/negative/uncertain for each target class"
   ]
  },
  {
   "cell_type": "code",
   "execution_count": 7,
   "metadata": {},
   "outputs": [
    {
     "name": "stdout",
     "output_type": "stream",
     "text": [
      "\n",
      "---- Sex ----\n",
      "Male       132636\n",
      "Female      90777\n",
      "Unknown         1\n",
      "Name: Sex, dtype: int64\n",
      "\n",
      "---- Frontal/Lateral ----\n",
      "Frontal    191027\n",
      "Lateral     32387\n",
      "Name: Frontal/Lateral, dtype: int64\n",
      "\n",
      "---- AP/PA ----\n",
      "AP    161590\n",
      "PA     29420\n",
      "LL        16\n",
      "RL         1\n",
      "Name: AP/PA, dtype: int64\n"
     ]
    }
   ],
   "source": [
    "columns =[\"Sex\",\"Frontal/Lateral\",\"AP/PA\"]\n",
    "for c in columns:\n",
    "    print(\"\\n---- %s ----\" % c)\n",
    "    print(train_df[c].value_counts())"
   ]
  },
  {
   "cell_type": "code",
   "execution_count": 8,
   "metadata": {},
   "outputs": [
    {
     "name": "stdout",
     "output_type": "stream",
     "text": [
      "\n",
      "---- No Finding ----\n",
      "1.0    15901\n",
      "0.0      174\n",
      "Name: No Finding, dtype: int64\n",
      "\n",
      "---- Enlarged Cardiomediastinum ----\n",
      " 0.0    14834\n",
      "-1.0     9748\n",
      " 1.0     8729\n",
      "Name: Enlarged Cardiomediastinum, dtype: int64\n",
      "\n",
      "---- Cardiomegaly ----\n",
      " 1.0    21097\n",
      " 0.0     7662\n",
      "-1.0     6372\n",
      "Name: Cardiomegaly, dtype: int64\n",
      "\n",
      "---- Lung Opacity ----\n",
      " 1.0    82252\n",
      " 0.0     4914\n",
      "-1.0     4245\n",
      "Name: Lung Opacity, dtype: int64\n",
      "\n",
      "---- Lung Lesion ----\n",
      " 1.0    6531\n",
      "-1.0    1049\n",
      " 0.0     945\n",
      "Name: Lung Lesion, dtype: int64\n",
      "\n",
      "---- Edema ----\n",
      " 1.0    42584\n",
      " 0.0    15416\n",
      "-1.0    10935\n",
      "Name: Edema, dtype: int64\n",
      "\n",
      "---- Consolidation ----\n",
      "-1.0    22372\n",
      " 0.0    19029\n",
      " 1.0    11828\n",
      "Name: Consolidation, dtype: int64\n",
      "\n",
      "---- Pneumonia ----\n",
      "-1.0    14825\n",
      " 1.0     4412\n",
      " 0.0     2000\n",
      "Name: Pneumonia, dtype: int64\n",
      "\n",
      "---- Atelectasis ----\n",
      "-1.0    27523\n",
      " 1.0    27222\n",
      " 0.0     1113\n",
      "Name: Atelectasis, dtype: int64\n",
      "\n",
      "---- Pneumothorax ----\n",
      " 0.0    44221\n",
      " 1.0    14191\n",
      "-1.0     2540\n",
      "Name: Pneumothorax, dtype: int64\n",
      "\n",
      "---- Pleural Effusion ----\n",
      " 1.0    65683\n",
      " 0.0    24430\n",
      "-1.0     9184\n",
      "Name: Pleural Effusion, dtype: int64\n",
      "\n",
      "---- Pleural Other ----\n",
      " 1.0    2376\n",
      "-1.0    1742\n",
      " 0.0     397\n",
      "Name: Pleural Other, dtype: int64\n",
      "\n",
      "---- Fracture ----\n",
      " 1.0    6898\n",
      " 0.0    2115\n",
      "-1.0     472\n",
      "Name: Fracture, dtype: int64\n",
      "\n",
      "---- Support Devices ----\n",
      " 1.0    92054\n",
      " 0.0     5131\n",
      "-1.0      865\n",
      "Name: Support Devices, dtype: int64\n"
     ]
    }
   ],
   "source": [
    "columns =[\"No Finding\",\"Enlarged Cardiomediastinum\",\"Cardiomegaly\",\"Lung Opacity\",\n",
    "          \"Lung Lesion\",\"Edema\",\"Consolidation\",\"Pneumonia\",\"Atelectasis\",\"Pneumothorax\",\"Pleural Effusion\",\n",
    "          \"Pleural Other\",\"Fracture\",\"Support Devices\"]\n",
    "df1=train_df[['patientID',\"No Finding\",\"Enlarged Cardiomediastinum\",\"Cardiomegaly\",\"Lung Opacity\",\n",
    "          \"Lung Lesion\",\"Edema\",\"Consolidation\",\"Pneumonia\",\"Atelectasis\",\"Pneumothorax\",\"Pleural Effusion\",\n",
    "          \"Pleural Other\",\"Fracture\",\"Support Devices\"]].drop_duplicates()\n",
    "df2=valid_df[['patientID',\"No Finding\",\"Enlarged Cardiomediastinum\",\"Cardiomegaly\",\"Lung Opacity\",\n",
    "          \"Lung Lesion\",\"Edema\",\"Consolidation\",\"Pneumonia\",\"Atelectasis\",\"Pneumothorax\",\"Pleural Effusion\",\n",
    "          \"Pleural Other\",\"Fracture\",\"Support Devices\"]].drop_duplicates()\n",
    "\n",
    "df_new = pd.concat([df1, df2])\n",
    "for c in columns:\n",
    "    print(\"\\n---- %s ----\" % c)\n",
    "    print(df_new[c].value_counts())"
   ]
  },
  {
   "cell_type": "markdown",
   "metadata": {},
   "source": [
    "### Shape of Training Images\n",
    "- paper crops images to 320x320, look at distribution of image height/widths to see if okay "
   ]
  },
  {
   "cell_type": "code",
   "execution_count": 9,
   "metadata": {},
   "outputs": [
    {
     "name": "stdout",
     "output_type": "stream",
     "text": [
      "0\n",
      "10000\n",
      "20000\n",
      "30000\n",
      "40000\n",
      "50000\n",
      "60000\n",
      "70000\n",
      "80000\n",
      "90000\n",
      "100000\n",
      "110000\n",
      "120000\n",
      "130000\n",
      "140000\n",
      "150000\n",
      "160000\n",
      "170000\n",
      "180000\n",
      "190000\n",
      "200000\n",
      "210000\n",
      "220000\n"
     ]
    }
   ],
   "source": [
    "train_heights = []\n",
    "train_widths = []\n",
    "\n",
    "for idx, row in train_df.iterrows():\n",
    "    if(idx % 10000 == 0):\n",
    "        print(idx)\n",
    "    img = cv2.imread(root_path + row.Path, cv2.IMREAD_GRAYSCALE)\n",
    "    height, width = img.shape\n",
    "    train_heights.append(height)\n",
    "    train_widths.append(width)"
   ]
  },
  {
   "cell_type": "code",
   "execution_count": 10,
   "metadata": {},
   "outputs": [
    {
     "name": "stdout",
     "output_type": "stream",
     "text": [
      "\u001b[1mTrain set:\u001b[0m\n",
      "Min of heights: 320 ; Max of heights: 642\n",
      "Min of widths: 320 ; Max of widths: 930\n"
     ]
    },
    {
     "data": {
      "image/png": "[encoded data removed]",
      "text/plain": [
       "<Figure size 432x288 with 1 Axes>"
      ]
     },
     "metadata": {
      "needs_background": "light"
     },
     "output_type": "display_data"
    },
    {
     "data": {
      "image/png": "[encoded data removed]",
      "text/plain": [
       "<Figure size 432x288 with 1 Axes>"
      ]
     },
     "metadata": {
      "needs_background": "light"
     },
     "output_type": "display_data"
    }
   ],
   "source": [
    "print('\\033[1mTrain set:\\033[0m')\n",
    "print(\"Min of heights:\", min(train_heights), \"; Max of heights:\", max(train_heights))\n",
    "print(\"Min of widths:\", min(train_widths), \"; Max of widths:\", max(train_widths))\n",
    "\n",
    "plt.hist(train_heights, bins=50)\n",
    "plt.title(\"Train Heights\")\n",
    "plt.show()\n",
    "\n",
    "plt.hist(train_widths, bins=50)\n",
    "plt.title(\"Train Widths\")\n",
    "plt.show()"
   ]
  },
  {
   "cell_type": "code",
   "execution_count": 11,
   "metadata": {},
   "outputs": [
    {
     "data": {
      "text/plain": [
       "967"
      ]
     },
     "execution_count": 11,
     "metadata": {},
     "output_type": "execute_result"
    }
   ],
   "source": [
    "len([t for t in train_heights if t > 400])"
   ]
  },
  {
   "cell_type": "code",
   "execution_count": 12,
   "metadata": {},
   "outputs": [
    {
     "data": {
      "text/plain": [
       "789"
      ]
     },
     "execution_count": 12,
     "metadata": {},
     "output_type": "execute_result"
    }
   ],
   "source": [
    "len([t for t in train_widths if t > 400])"
   ]
  },
  {
   "cell_type": "code",
   "execution_count": null,
   "metadata": {},
   "outputs": [],
   "source": []
  }
 ],
 "metadata": {
  "kernelspec": {
   "display_name": "Python 3",
   "language": "python",
   "name": "python3"
  },
  "language_info": {
   "codemirror_mode": {
    "name": "ipython",
    "version": 3
   },
   "file_extension": ".py",
   "mimetype": "text/x-python",
   "name": "python",
   "nbconvert_exporter": "python",
   "pygments_lexer": "ipython3",
   "version": "3.7.1"
  }
 },
 "nbformat": 4,
 "nbformat_minor": 2
}
